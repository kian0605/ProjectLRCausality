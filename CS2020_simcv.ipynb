{
  "nbformat": 4,
  "nbformat_minor": 0,
  "metadata": {
    "kernelspec": {
      "display_name": "Python 3",
      "language": "python",
      "name": "python3"
    },
    "language_info": {
      "codemirror_mode": {
        "name": "ipython",
        "version": 3
      },
      "file_extension": ".py",
      "mimetype": "text/x-python",
      "name": "python",
      "nbconvert_exporter": "python",
      "pygments_lexer": "ipython3",
      "version": "3.7.7"
    },
    "colab": {
      "name": "CS2020_simcv.ipynb",
      "provenance": []
    }
  },
  "cells": [
    {
      "cell_type": "code",
      "metadata": {
        "pycharm": {
          "name": "#%%\n"
        },
        "id": "nOYL39bk0GX8",
        "colab_type": "code",
        "colab": {}
      },
      "source": [
        "#!/usr/bin/env python3\n",
        "# -*- coding: utf-8 -*-\n",
        "\"\"\"\n",
        "\"\"\"\n",
        "import numpy as np\n",
        "import multiprocessing as mp\n",
        "import pickle\n",
        "import matplotlib.pyplot as plt"
      ],
      "execution_count": 1,
      "outputs": []
    },
    {
      "cell_type": "code",
      "metadata": {
        "pycharm": {
          "name": "#%%\n"
        },
        "id": "hl9zHFLF0GYD",
        "colab_type": "code",
        "colab": {}
      },
      "source": [
        "path = '/home/ubuntu/python/2020/Project_LRL'\n",
        "T = 4000\n",
        "R = 5000 # the number of replications\n",
        "rw0 = [0.05,0.10,0.15,0.20,0.25,0.30,0.35,0.40,0.45,0.50,0.55,0.60]\n",
        "N_rw = len(rw0)\n",
        "GSW = np.zeros((R,2,N_rw)) # to store the critical values"
      ],
      "execution_count": 2,
      "outputs": []
    },
    {
      "cell_type": "code",
      "metadata": {
        "pycharm": {
          "name": "#%%\n"
        },
        "id": "OrF4UXUf0GYI",
        "colab_type": "code",
        "colab": {}
      },
      "source": [
        "def sim_process(T,rw,seeds):\n",
        "    np.random.seed(seeds)\n",
        "    wr = np.int(np.ceil(T*rw)) # window size\n",
        "    Ty0 = T-wr+1\n",
        "    Ty1 = T\n",
        "    W1 = -float('inf')\n",
        "    W0 = -float('inf')\n",
        "    ux = np.random.randn(T)\n",
        "    uy = np.random.randn(T)\n",
        "    ux[0] = 0\n",
        "    uy[0] = 0\n",
        "    Wx = np.cumsum(ux)/np.sqrt(T)\n",
        "    Wy = np.cumsum(uy)/np.sqrt(T)\n",
        "    dWy = Wy[1:]-Wy[0:-1]\n",
        "    dWx = Wx[1:]-Wx[0:-1]\n",
        "    for tau in range(0,T-wr):\n",
        "        Tx0 = Ty0-tau\n",
        "        Tx1 = Ty1-tau\n",
        "        E1 = np.zeros((2,1))\n",
        "        E2 = np.zeros((2,2))\n",
        "        E1[0,0] = 0.5*(Wy[Ty1-1]**2-Wy[Ty0-1]**2-rw) # is equivalent to np.sum(Wy[Ty0-1:Ty1-2]*dWy[Ty0:])\n",
        "        E1[1,0] = np.sum(Wx[Tx0-1:Tx1-1]*dWy[Ty0-1:])\n",
        "        E2[0,0] = np.sum((Wy[0:Ty1]**2)*(1/T))-np.sum((Wy[0:Ty0]**2)*(1/T))\n",
        "        E2[0,1] = np.sum((Wy[tau:Ty1]*Wx[0:Tx1])*(1/T))-np.sum((Wy[tau:Ty0]*Wx[0:Tx0])*(1/T))\n",
        "        E2[1,0] = E2[0,1]\n",
        "        E2[1,1] = np.sum((Wx[0:Tx1]**2)*(1/T))-np.sum((Wx[0:Tx0]**2)*(1/T))\n",
        "        W1 = np.max([W1,E1.T@np.linalg.inv(E2)@E1])\n",
        "        #W0 = np.max([W0,])\n",
        "        W0 = np.max([W0,np.sum(np.sqrt(T)*dWy[-wr:T-1]*dWx[-wr-tau:T-1-tau])**2/rw+E1[0,0]**2/E2[0,0]])\n",
        "    return [W0,W1]\n",
        "\n",
        "for rw1 in range(N_rw):\n",
        "    rw = rw0[rw1]\n",
        "    p = mp.Pool(processes = 16)\n",
        "    seeds = np.random.randint(low=1,high=100000,size=R)\n",
        "    multi_res = [p.apply_async(sim_process,(T,rw,seeds[rr])) for rr in range(R)]\n",
        "    p.close()\n",
        "    p.join()\n",
        "    GSW[:,0,rw1]=np.array(([res.get()[0] for res in multi_res]))\n",
        "    GSW[:,1,rw1]=np.array(([res.get()[1] for res in multi_res]))"
      ],
      "execution_count": null,
      "outputs": []
    },
    {
      "cell_type": "code",
      "metadata": {
        "pycharm": {
          "name": "#%%\n"
        },
        "id": "zOc6TJ740GYM",
        "colab_type": "code",
        "colab": {}
      },
      "source": [
        "GSW_dict = {'GSW': GSW}\n",
        "\n",
        "file = open(path+'/GSW_20200902.pickle', 'wb')\n",
        "pickle.dump(GSW_dict, file)\n",
        "file.close()\n",
        "\n",
        "#from sendmail import sendemail\n",
        "#sendemail()\n"
      ],
      "execution_count": null,
      "outputs": []
    }
  ]
}