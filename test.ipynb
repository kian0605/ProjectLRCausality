{
 "cells": [
  {
   "cell_type": "code",
   "execution_count": 53,
   "metadata": {
    "collapsed": true,
    "pycharm": {
     "name": "#%%\n"
    }
   },
   "outputs": [],
   "source": []
  },
  {
   "cell_type": "markdown",
   "source": [
    "The following code compares the difference between the simulated stochastic process and the sample counterpart process."
   ],
   "metadata": {
    "collapsed": false
   }
  },
  {
   "cell_type": "code",
   "execution_count": 54,
   "outputs": [],
   "source": [
    "import numpy as np\n",
    "from numpy.linalg import inv\n",
    "import matplotlib.pyplot as plt\n",
    "from numpy.random import chisquare as ch2\n",
    "\n",
    "T = 2000\n",
    "T1 = 1000\n",
    "R =20000\n",
    "z = np.zeros((T-T1,1))\n",
    "z2 = np.zeros((T-T1,1))\n",
    "W = np.zeros((R,1))\n",
    "W2 = np.zeros((R,1))\n",
    "for rr in range(R):\n",
    "    x = np.random.randn(T,1)\n",
    "    e = np.random.randn(T,1)\n",
    "    for tt in range(T-T1):\n",
    "        z[tt,0] = np.sqrt(T1)*np.mean(x[:T1,0]*e[tt:T1+tt,0])\n",
    "        z2[tt,0] = ch2(1)\n",
    "        W[rr,0] = max((W[rr,0],z[tt,0]**2))\n",
    "        W2[rr,0] = max((W2[rr,0],z2[tt,0]))"
   ],
   "metadata": {
    "collapsed": false,
    "pycharm": {
     "name": "#%%\n"
    }
   }
  },
  {
   "cell_type": "code",
   "execution_count": 55,
   "outputs": [
    {
     "name": "stdout",
     "output_type": "stream",
     "text": [
      "[15.16366843 16.55193271 19.79878924]\n",
      "[15.06539078 16.37974611 19.36515492]\n"
     ]
    },
    {
     "data": {
      "text/plain": "<Figure size 432x288 with 1 Axes>",
      "image/png": "[encoded data removed]"
     },
     "metadata": {
      "needs_background": "light"
     },
     "output_type": "display_data"
    },
    {
     "data": {
      "text/plain": "<Figure size 432x288 with 1 Axes>",
      "image/png": "[encoded data removed]"
     },
     "metadata": {
      "needs_background": "light"
     },
     "output_type": "display_data"
    }
   ],
   "source": [
    "plt.figure()\n",
    "plt.hist(W)\n",
    "plt.figure()\n",
    "plt.hist(W2)\n",
    "print(np.quantile(W,[0.9,0.95,0.99]))\n",
    "print(np.quantile(W2,[0.9,0.95,0.99]))"
   ],
   "metadata": {
    "collapsed": false,
    "pycharm": {
     "name": "#%%\n"
    }
   }
  },
  {
   "cell_type": "code",
   "execution_count": 56,
   "outputs": [
    {
     "name": "stdout",
     "output_type": "stream",
     "text": [
      "[10.73887348]\n",
      "[12.80036905]\n"
     ]
    }
   ],
   "source": [
    "print(max(z**2))\n",
    "print(max(z2))"
   ],
   "metadata": {
    "collapsed": false,
    "pycharm": {
     "name": "#%%\n"
    }
   }
  },
  {
   "cell_type": "code",
   "execution_count": 57,
   "outputs": [
    {
     "name": "stdout",
     "output_type": "stream",
     "text": [
      "10.738873480946667\n"
     ]
    }
   ],
   "source": [
    "print(W[-1,0])"
   ],
   "metadata": {
    "collapsed": false,
    "pycharm": {
     "name": "#%%\n"
    }
   }
  }
 ],
 "metadata": {
  "kernelspec": {
   "display_name": "Python 3",
   "language": "python",
   "name": "python3"
  },
  "language_info": {
   "codemirror_mode": {
    "name": "ipython",
    "version": 2
   },
   "file_extension": ".py",
   "mimetype": "text/x-python",
   "name": "python",
   "nbconvert_exporter": "python",
   "pygments_lexer": "ipython2",
   "version": "2.7.6"
  }
 },
 "nbformat": 4,
 "nbformat_minor": 0
}