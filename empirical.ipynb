{
 "cells": [
  {
   "cell_type": "code",
   "execution_count": 83,
   "metadata": {
    "collapsed": true
   },
   "outputs": [],
   "source": [
    "%reset -f\n",
    "import pandas as pd\n",
    "import numpy as np\n",
    "import statsmodels.api as sm\n",
    "def lag_v(x,lag,max_lag):\n",
    "    n = x.shape[0]\n",
    "    y = x[max_lag-lag:n-lag,:]\n",
    "    return y"
   ]
  },
  {
   "cell_type": "code",
   "execution_count": 84,
   "outputs": [],
   "source": [
    "path = '/home/kian/Dropbox/MATLAB/2019/LongRunCausality/Python/data'\n",
    "h = np.log(pd.read_csv(path+'/HSN1F.csv',parse_dates={'Date': [0]}, index_col='Date'))*100\n",
    "m = pd.read_csv(path+'/MORTGAGE30US.csv', parse_dates={'Date': [0]}, index_col='Date')*100\n",
    "y = pd.read_csv(path+'/GDPC1.csv', parse_dates={'Date': [0]}, index_col='Date')\n",
    "dm = m.diff(1)"
   ],
   "metadata": {
    "collapsed": false,
    "pycharm": {
     "name": "#%%\n"
    }
   }
  },
  {
   "cell_type": "code",
   "execution_count": 85,
   "outputs": [],
   "source": [
    "index=pd.date_range(start='1971-10-30',end='2020-7-31',freq='BM')\n",
    "dm30 = pd.DataFrame(np.zeros((len(index),30)),index=index)\n",
    "for dd in pd.date_range(start='1971-10-30',end='2020-7-31',freq='BM'):\n",
    "    dm30.loc[dd] = np.flipud(np.array(dm['1971-4':dd].iloc[-30:])).T\n",
    "yr = y.pct_change(4)\n",
    "h = h['1971-11':'2020-7']\n",
    "h.index = index"
   ],
   "metadata": {
    "collapsed": false,
    "pycharm": {
     "name": "#%%\n"
    }
   }
  },
  {
   "cell_type": "code",
   "execution_count": 91,
   "outputs": [
    {
     "name": "stderr",
     "output_type": "stream",
     "text": [
      "/home/kian/anaconda3/lib/python3.7/site-packages/statsmodels/base/model.py:568: ConvergenceWarning: Maximum Likelihood optimization failed to converge. Check mle_retvals\n",
      "  \"Check mle_retvals\", ConvergenceWarning)\n"
     ]
    },
    {
     "name": "stdout",
     "output_type": "stream",
     "text": [
      "                                     SARIMAX Results                                      \n",
      "==========================================================================================\n",
      "Dep. Variable:                              HSN1F   No. Observations:                  216\n",
      "Model:             SARIMAX(5, 0, 0)x(1, 1, 0, 12)   Log Likelihood                -679.762\n",
      "Date:                            Wed, 09 Sep 2020   AIC                           1437.523\n",
      "Time:                                    14:39:04   BIC                           1566.930\n",
      "Sample:                                01-31-1989   HQIC                          1489.871\n",
      "                                     - 12-29-2006                                         \n",
      "Covariance Type:                              opg                                         \n",
      "==============================================================================\n",
      "                 coef    std err          z      P>|z|      [0.025      0.975]\n",
      "------------------------------------------------------------------------------\n",
      "intercept      0.8228      0.497      1.657      0.097      -0.150       1.796\n",
      "drift         -0.0066      0.006     -1.190      0.234      -0.017       0.004\n",
      "0              0.1056      0.050      2.109      0.035       0.007       0.204\n",
      "1             -0.0126      0.045     -0.277      0.782      -0.102       0.076\n",
      "2              0.0496      0.040      1.230      0.219      -0.029       0.129\n",
      "3              0.0670      0.046      1.450      0.147      -0.024       0.158\n",
      "4              0.0570      0.059      0.959      0.337      -0.059       0.174\n",
      "5             -0.1084      0.050     -2.149      0.032      -0.207      -0.010\n",
      "6              0.0258      0.049      0.529      0.597      -0.070       0.122\n",
      "7             -0.0568      0.042     -1.362      0.173      -0.138       0.025\n",
      "8              0.0546      0.058      0.950      0.342      -0.058       0.167\n",
      "9             -0.1005      0.058     -1.745      0.081      -0.213       0.012\n",
      "10            -0.0863      0.049     -1.752      0.080      -0.183       0.010\n",
      "11            -0.0216      0.040     -0.539      0.590      -0.100       0.057\n",
      "12            -0.0293      0.058     -0.507      0.612      -0.143       0.084\n",
      "13            -0.0583      0.060     -0.977      0.328      -0.175       0.059\n",
      "14            -0.0860      0.051     -1.670      0.095      -0.187       0.015\n",
      "15            -0.0873      0.041     -2.144      0.032      -0.167      -0.008\n",
      "16            -0.0464      0.041     -1.125      0.261      -0.127       0.034\n",
      "17            -0.1102      0.052     -2.139      0.032      -0.211      -0.009\n",
      "18            -0.0980      0.050     -1.955      0.051      -0.196       0.000\n",
      "19            -0.0910      0.046     -1.974      0.048      -0.181      -0.001\n",
      "20            -0.0728      0.037     -1.986      0.047      -0.145      -0.001\n",
      "21            -0.0564      0.052     -1.080      0.280      -0.159       0.046\n",
      "22            -0.1302      0.057     -2.294      0.022      -0.241      -0.019\n",
      "23            -0.0229      0.052     -0.439      0.661      -0.125       0.079\n",
      "24            -0.0312      0.040     -0.788      0.431      -0.109       0.046\n",
      "25             0.0450      0.049      0.923      0.356      -0.051       0.140\n",
      "26            -0.0281      0.060     -0.470      0.638      -0.145       0.089\n",
      "27            -0.0075      0.047     -0.159      0.874      -0.099       0.084\n",
      "28            -0.0576      0.039     -1.466      0.143      -0.135       0.019\n",
      "29             0.0507      0.048      1.062      0.288      -0.043       0.144\n",
      "ar.L1          0.5411      0.090      6.003      0.000       0.364       0.718\n",
      "ar.L2          0.1191      0.109      1.095      0.273      -0.094       0.332\n",
      "ar.L3          0.1619      0.098      1.645      0.100      -0.031       0.355\n",
      "ar.L4         -0.1345      0.100     -1.344      0.179      -0.331       0.062\n",
      "ar.L5          0.2505      0.102      2.446      0.014       0.050       0.451\n",
      "ar.S.L12      -0.4193      0.094     -4.477      0.000      -0.603      -0.236\n",
      "sigma2        44.5284      5.503      8.091      0.000      33.742      55.315\n",
      "===================================================================================\n",
      "Ljung-Box (Q):                       87.35   Jarque-Bera (JB):                 1.02\n",
      "Prob(Q):                              0.00   Prob(JB):                         0.60\n",
      "Heteroskedasticity (H):               0.66   Skew:                            -0.10\n",
      "Prob(H) (two-sided):                  0.09   Kurtosis:                         3.28\n",
      "===================================================================================\n",
      "\n",
      "Warnings:\n",
      "[1] Covariance matrix calculated using the outer product of gradients (complex-step).\n"
     ]
    }
   ],
   "source": [
    "mod = sm.tsa.statespace.SARIMAX(h['1989':'2006'],dm30['1989':'2006'], trend='ct', order=(5,0,0), seasonal_order=(1,1,0,12))\n",
    "res = mod.fit(disp=False)\n",
    "print(res.summary())\n"
   ],
   "metadata": {
    "collapsed": false,
    "pycharm": {
     "name": "#%%\n"
    }
   }
  }
 ],
 "metadata": {
  "kernelspec": {
   "display_name": "Python 3",
   "language": "python",
   "name": "python3"
  },
  "language_info": {
   "codemirror_mode": {
    "name": "ipython",
    "version": 2
   },
   "file_extension": ".py",
   "mimetype": "text/x-python",
   "name": "python",
   "nbconvert_exporter": "python",
   "pygments_lexer": "ipython2",
   "version": "2.7.6"
  }
 },
 "nbformat": 4,
 "nbformat_minor": 0
}