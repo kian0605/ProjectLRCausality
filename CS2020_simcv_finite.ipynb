{
 "cells": [
  {
   "cell_type": "markdown",
   "metadata": {
    "collapsed": true,
    "pycharm": {
     "name": "#%% md\n"
    }
   },
   "source": [
    "The following code is used to generate the critical values based on different sample size $T$, the minimum window $r_w$ and different $k1$ and $k2$.\n",
    "`sim_process` is a function used to simulate the distribution derived from the paper."
   ]
  },
  {
   "cell_type": "code",
   "execution_count": 1,
   "metadata": {
    "pycharm": {
     "name": "#%%\n"
    }
   },
   "outputs": [],
   "source": [
    "\"\"\"\n",
    "\"\"\"\n",
    "%reset -f\n",
    "import numpy as np\n",
    "import multiprocessing as mp\n",
    "from numpy.random import chisquare as ch2\n",
    "from scipy.stats import chi2\n",
    "import pickle\n",
    "import matplotlib.pyplot as plt\n",
    "import warnings\n",
    "warnings.filterwarnings(\"ignore\", category=np.VisibleDeprecationWarning)"
   ]
  },
  {
   "cell_type": "code",
   "execution_count": 9,
   "metadata": {
    "pycharm": {
     "name": "#%%\n"
    }
   },
   "outputs": [],
   "source": [
    "path = '/home/ubuntu/python/2020/Project_LRL'\n",
    "T0 = [100]\n",
    "R = 10000 # the number of replications\n",
    "rw0 = [0.05,0.10,0.15,0.20,0.25,0.30]\n",
    "k_1 = [1]\n",
    "k_2 = [1]\n",
    "N_k1 = len(k_1)\n",
    "N_k2 = len(k_2)\n",
    "N_rw = len(rw0)\n",
    "N_t = len(T0)\n",
    "GSW = np.zeros((R,2,N_rw,N_t,N_k1,N_k2)) # to store the critical values\n"
   ]
  },
  {
   "cell_type": "code",
   "execution_count": 3,
   "metadata": {
    "pycharm": {
     "name": "#%%\n"
    }
   },
   "outputs": [],
   "source": [
    "def sim_process(T,rw,seeds,k1,k2):\n",
    "    k = k1+k2+1\n",
    "    np.random.seed(seeds)\n",
    "    wr = np.int(np.ceil(T*rw)) # window size\n",
    "    Ty0 = T-wr+1\n",
    "    Ty1 = T\n",
    "    W1 = -float('inf')\n",
    "    W0 = -float('inf')\n",
    "    ux1 = np.random.randn(T,k1)\n",
    "    ux2 = np.random.randn(T,k2)\n",
    "    uy = np.random.randn(T,1)\n",
    "    ux1[0,:] = 0\n",
    "    ux2[0,:] = 0\n",
    "    uy[0,0] = 0\n",
    "    Wx1 = np.cumsum(ux1,0)/np.sqrt(T)\n",
    "    Wx2 = np.cumsum(ux2,0)/np.sqrt(T)\n",
    "    Wy = np.cumsum(uy,0)/np.sqrt(T)\n",
    "    dWy = Wy[1:,:]-Wy[0:-1,:]\n",
    "    dWx1 = Wx1[1:,:]-Wx1[0:-1,:]\n",
    "    dWx2 = Wx2[1:,:]-Wx2[0:-1,:]\n",
    "    for tau in range(0,T-wr):\n",
    "        Tx0 = Ty0-tau\n",
    "        Tx1 = Ty1-tau\n",
    "        E1 = np.zeros((k,1))\n",
    "        E2 = np.zeros((k,k))\n",
    "        E1[0,0] = 0.5*(Wy[Ty1-1,:]**2-Wy[Ty0-1,:]**2-rw) # is equivalent to np.sum(Wy[Ty0-1:Ty1-2]*dWy[Ty0:])\n",
    "        if k1!=0:\n",
    "            E1[1:(k1+1),0] = np.sum(Wx1[Ty0-1:Ty1-1,:]*dWy[Ty0-1:,:])\n",
    "        E1[(k1+1):k,0] = np.sum(Wx2[Tx0-1:Tx1-1,:]*dWy[Ty0-1:,:])\n",
    "        E2[0,0] = np.sum((Wy[0:Ty1,:]**2)*(1/T))-np.sum((Wy[0:Ty0,:]**2)*(1/T))\n",
    "        if k1!=0:\n",
    "            E2[0,1:(k1+1)] = np.sum((Wy[tau:Ty1,:]*Wx1[tau:Ty1,:])*(1/T))-np.sum((Wy[tau:Ty0,:]*Wx1[tau:Ty0,:])*(1/T))\n",
    "            E2[1:(k1+1),0] = E2[0,1:(k1+1)]\n",
    "            E2[1:(k1+1),(k1+1):k] = (Wx1[tau:Ty1,:].T@Wx2[0:Tx1,:])*(1/T)-(Wx1[tau:Ty0,:].T@Wx2[0:Tx0,:])*(1/T)\n",
    "            E2[(k1+1):k,1:(k1+1)] = E2[1:(k1+1),(k1+1):k]\n",
    "            E2[1:(k1+1),1:(k1+1)] = (Wx1[tau:Ty1,:].T@Wx1[tau:Ty1,:])*(1/T)-(Wx1[tau:Ty0,:].T@Wx1[tau:Ty0,:])*(1/T)\n",
    "        E2[0,(k1+1):k] = np.sum((Wy[tau:Ty1,:]*Wx2[0:Tx1,:])*(1/T))-np.sum((Wy[tau:Ty0,:]*Wx2[0:Tx0,:])*(1/T))\n",
    "        E2[(k1+1):k,0] = E2[0,(k1+1):k].T\n",
    "        E2[(k1+1):k,(k1+1):k] = (Wx2[0:Tx1,:].T@Wx2[0:Tx1,:])*(1/T)-(Wx2[0:Tx0,:].T@Wx2[0:Tx0,:])*(1/T)\n",
    "        W1 = np.max([W1,E1.T@np.linalg.inv(E2)@E1])\n",
    "        W0 = np.max([W0,ch2(k2)+E1[0,0]**2/E2[0,0]])\n",
    "        #W0 = np.max([W0,np.sum(np.sqrt(T)*dWy[-wr:T-1]*dWx[-wr-tau:T-1-tau])**2/rw+E1[0,0]**2/E2[0,0]])\n",
    "    if k1!=0:\n",
    "        W0 = W0+ch2(k1)\n",
    "    return [W0,W1]"
   ]
  },
  {
   "cell_type": "code",
   "execution_count": 10,
   "metadata": {
    "pycharm": {
     "name": "#%%\n"
    }
   },
   "outputs": [],
   "source": [
    "for i1 in range(N_k1):\n",
    "    k1 = k_1[i1]\n",
    "    for i2 in range(N_k2):\n",
    "        k2 = k_2[i2]\n",
    "        for rw1 in range(N_rw):\n",
    "            rw = rw0[rw1]\n",
    "            for t1 in range(N_t):\n",
    "                T = T0[t1]\n",
    "                p = mp.Pool(processes = 6)\n",
    "                seeds = np.random.randint(low=1,high=100000,size=R)\n",
    "                multi_res = [p.apply_async(sim_process,(T,rw,seeds[rr],k1,k2)) for rr in range(R)]\n",
    "                p.close()\n",
    "                p.join()\n",
    "                GSW[:,0,rw1,t1,i1,i2]=np.array(([res.get()[0] for res in multi_res]))\n",
    "                GSW[:,1,rw1,t1,i1,i2]=np.array(([res.get()[1] for res in multi_res]))"
   ]
  },
  {
   "cell_type": "code",
   "execution_count": null,
   "metadata": {
    "pycharm": {
     "name": "#%%\n"
    }
   },
   "outputs": [],
   "source": [
    "GSW_dict = {'GSW': GSW}\n",
    "\n",
    "file = open(path+'/GSW_20200909_finite.pickle', 'wb')\n",
    "pickle.dump(GSW_dict, file)\n",
    "file.close()\n",
    "\n",
    "from sendmail import sendemail\n",
    "sendemail()\n"
   ]
  }
 ],
 "metadata": {
  "kernelspec": {
   "display_name": "Python 3",
   "language": "python",
   "name": "python3"
  },
  "language_info": {
   "codemirror_mode": {
    "name": "ipython",
    "version": 3
   },
   "file_extension": ".py",
   "mimetype": "text/x-python",
   "name": "python",
   "nbconvert_exporter": "python",
   "pygments_lexer": "ipython3",
   "version": "3.7.7"
  }
 },
 "nbformat": 4,
 "nbformat_minor": 1
}