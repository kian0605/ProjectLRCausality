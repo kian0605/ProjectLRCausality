{
 "cells": [
  {
   "cell_type": "code",
   "execution_count": null,
   "metadata": {
    "collapsed": true
   },
   "outputs": [],
   "source": []
  },
  {
   "cell_type": "code",
   "execution_count": 5,
   "outputs": [],
   "source": [
    "\"\"\"\n",
    "\"\"\"\n",
    "import numpy as np\n",
    "import multiprocessing as mp\n",
    "from numpy.random import chisquare as ch2\n",
    "import pickle\n",
    "import matplotlib.pyplot as plt\n",
    "import warnings\n",
    "warnings.filterwarnings(\"ignore\", category=np.VisibleDeprecationWarning)"
   ],
   "metadata": {
    "collapsed": false,
    "pycharm": {
     "name": "#%%\n"
    }
   }
  },
  {
   "cell_type": "code",
   "execution_count": 6,
   "outputs": [],
   "source": [
    "path = '/home/ubuntu/python/2020/Project_LRL'\n",
    "T0 = [100,200,400,800,1600]\n",
    "R = 1000 # the number of replications\n",
    "rw0 = [0.05,0.10,0.15,0.20,0.25,0.30]\n",
    "N_rw = len(rw0)\n",
    "N_t = len(T0)\n",
    "GSW = np.zeros((R,2,N_rw,N_t)) # to store the critical values"
   ],
   "metadata": {
    "collapsed": false,
    "pycharm": {
     "name": "#%%\n"
    }
   }
  },
  {
   "cell_type": "markdown",
   "source": [
    "The following function,`sim_process` is used to generate the statistic based on different sample size $T$ and the minimum window $r_w$."
   ],
   "metadata": {
    "collapsed": false,
    "pycharm": {
     "name": "#%% md\n"
    }
   }
  },
  {
   "cell_type": "code",
   "execution_count": 7,
   "outputs": [],
   "source": [
    "def sim_process(T,rw,seeds):\n",
    "    np.random.seed(seeds)\n",
    "    wr = np.int(np.ceil(T*rw)) # window size\n",
    "    Ty0 = T-wr+1\n",
    "    Ty1 = T\n",
    "    W1 = -float('inf')\n",
    "    W0 = -float('inf')\n",
    "    ux = np.random.randn(T)\n",
    "    uy = np.random.randn(T)\n",
    "    ux[0] = 0\n",
    "    uy[0] = 0\n",
    "    Wx = np.cumsum(ux)/np.sqrt(T)\n",
    "    Wy = np.cumsum(uy)/np.sqrt(T)\n",
    "    dWy = Wy[1:]-Wy[0:-1]\n",
    "    dWx = Wx[1:]-Wx[0:-1]\n",
    "    for tau in range(0,T-wr):\n",
    "        Tx0 = Ty0-tau\n",
    "        Tx1 = Ty1-tau\n",
    "        E1 = np.zeros((2,1))\n",
    "        E2 = np.zeros((2,2))\n",
    "        E1[0,0] = 0.5*(Wy[Ty1-1]**2-Wy[Ty0-1]**2-rw) # is equivalent to np.sum(Wy[Ty0-1:Ty1-2]*dWy[Ty0:])\n",
    "        E1[1,0] = np.sum(Wx[Tx0-1:Tx1-1]*dWy[Ty0-1:])\n",
    "        E2[0,0] = np.sum((Wy[0:Ty1]**2)*(1/T))-np.sum((Wy[0:Ty0]**2)*(1/T))\n",
    "        E2[0,1] = np.sum((Wy[tau:Ty1]*Wx[0:Tx1])*(1/T))-np.sum((Wy[tau:Ty0]*Wx[0:Tx0])*(1/T))\n",
    "        E2[1,0] = E2[0,1]\n",
    "        E2[1,1] = np.sum((Wx[0:Tx1]**2)*(1/T))-np.sum((Wx[0:Tx0]**2)*(1/T))\n",
    "        W1 = np.max([W1,E1.T@np.linalg.inv(E2)@E1])\n",
    "        W0 = np.max([W0,ch2(1)+E1[0,0]**2/E2[0,0]])\n",
    "        #W0 = np.max([W0,np.sum(np.sqrt(T)*dWy[-wr:T-1]*dWx[-wr-tau:T-1-tau])**2/rw+E1[0,0]**2/E2[0,0]])\n",
    "    return [W0,W1]"
   ],
   "metadata": {
    "collapsed": false,
    "pycharm": {
     "name": "#%%\n"
    }
   }
  },
  {
   "cell_type": "markdown",
   "source": [
    "The following code is used to simulate the critical values"
   ],
   "metadata": {
    "collapsed": false,
    "pycharm": {
     "name": "#%% md\n"
    }
   }
  },
  {
   "cell_type": "code",
   "execution_count": 8,
   "outputs": [],
   "source": [
    "for rw1 in range(N_rw):\n",
    "    rw = rw0[rw1]\n",
    "    for t1 in range(N_t):\n",
    "        T = T0[t1]\n",
    "        p = mp.Pool(processes = 96)\n",
    "        seeds = np.random.randint(low=1,high=100000,size=R)\n",
    "        multi_res = [p.apply_async(sim_process,(T,rw,seeds[rr])) for rr in range(R)]\n",
    "        p.close()\n",
    "        p.join()\n",
    "        GSW[:,0,rw1,t1]=np.array(([res.get()[0] for res in multi_res]))\n",
    "        GSW[:,1,rw1,t1]=np.array(([res.get()[1] for res in multi_res]))"
   ],
   "metadata": {
    "collapsed": false,
    "pycharm": {
     "name": "#%%\n"
    }
   }
  },
  {
   "cell_type": "code",
   "execution_count": null,
   "outputs": [],
   "source": [
    "GSW_dict = {'GSW': GSW}\n",
    "\n",
    "file = open(path+'/GSW_20200909_finite.pickle', 'wb')\n",
    "pickle.dump(GSW_dict, file)\n",
    "file.close()\n",
    "\n",
    "from sendmail import sendemail\n",
    "sendemail()"
   ],
   "metadata": {
    "collapsed": false,
    "pycharm": {
     "name": "#%%\n"
    }
   }
  }
 ],
 "metadata": {
  "kernelspec": {
   "display_name": "Python 3",
   "language": "python",
   "name": "python3"
  },
  "language_info": {
   "codemirror_mode": {
    "name": "ipython",
    "version": 2
   },
   "file_extension": ".py",
   "mimetype": "text/x-python",
   "name": "python",
   "nbconvert_exporter": "python",
   "pygments_lexer": "ipython2",
   "version": "2.7.6"
  }
 },
 "nbformat": 4,
 "nbformat_minor": 0
}